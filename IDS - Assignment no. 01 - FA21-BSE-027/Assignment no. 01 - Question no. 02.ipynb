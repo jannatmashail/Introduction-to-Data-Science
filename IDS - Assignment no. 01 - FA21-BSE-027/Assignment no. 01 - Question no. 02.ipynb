{
  "nbformat": 4,
  "nbformat_minor": 0,
  "metadata": {
    "colab": {
      "provenance": []
    },
    "kernelspec": {
      "name": "python3",
      "display_name": "Python 3"
    },
    "language_info": {
      "name": "python"
    }
  },
  "cells": [
    {
      "cell_type": "code",
      "source": [
        " # 17th September 2023\n",
        "# CSC461 – Assignment1 – Web Scraping\n",
        "# Mashail Jannat\n",
        "# FA21-BSE-027\n",
        "# This is a webscrapper code that is extracting the information of the people that share my birthdate (18th March) with me from timeanddate.com, the events that occured on this date from britannica.com and exporting it to a text file named \"18thMarchfile\"\n",
        "\n",
        "import requests\n",
        "from bs4 import BeautifulSoup\n",
        "\n",
        "data = []\n",
        "\n",
        "response_1 = requests.get (\"https://www.timeanddate.com/on-this-day/march/18\")\n",
        "root_1 = BeautifulSoup (response_1.content, 'html5lib')\n",
        "\n",
        "div_required_1 = root_1.find ('div', attrs = {'class' : 'otd-life__block'})\n",
        "\n",
        "ul_element_1 = div_required_1.find ('ul', attrs = {'class' : 'list--big'})\n",
        "li_elements_1 = ul_element_1.find_all ('li')\n",
        "\n",
        "data.append ('https://timeanddate.com/on-this-day/march/18\\n\\nBirths on this date\\n\\n')\n",
        "\n",
        "for li_1 in li_elements_1:\n",
        "  name_1 = li_1.h3.text.strip ()\n",
        "  detail_1 = li_1.p.text.strip ()\n",
        "  data.append (name_1 + '\\n' + detail_1 + '\\n\\n')\n",
        "\n",
        "response_2 = requests.get (\"https://www.britannica.com/on-this-day/March-18\")\n",
        "root_2 = BeautifulSoup (response_2.content, 'html5lib')\n",
        "\n",
        "div_required_2 = root_2.find ('div', attrs = {'class' : 'featured-event-card card'})\n",
        "\n",
        "featured_eventyear_div = div_required_2.find ('div', attrs = {'class' : 'date-label'})\n",
        "featured_eventtitle_div = div_required_2.find('div', attrs = {'class': 'title font-18 font-weight-bold mb-10'})\n",
        "featured_eventdescription_div = div_required_2.find('div', attrs = {'class': 'description font-serif'})\n",
        "\n",
        "data.append ('https://www.britannica.com/on-this-day/March-18\\n\\nFeatured event that occured on this date\\n\\n')\n",
        "data.append (featured_eventyear_div.text.strip () + '\\n' + featured_eventtitle_div.text.strip () + '\\n' + featured_eventdescription_div.text.strip ())\n",
        "\n",
        "div_required_3 = root_2.find_all ('div', attrs = {'class' : 'md-history-event card d-flex mb-20 flex-column flex-sm-row'})\n",
        "\n",
        "data.append ('\\n\\nMore events that occured on this date')\n",
        "for eventcard_div in div_required_3:\n",
        "    eventyear_div = eventcard_div.find ('div', attrs = {'class' : 'date-label'})\n",
        "    event_year = eventyear_div.text.strip ()\n",
        "\n",
        "    eventdescription_div = eventcard_div.find ('div', attrs = {'class' : 'card-body font-serif'})\n",
        "    event_description = eventdescription_div.text.strip ()\n",
        "\n",
        "    data.append ('\\n\\n' + event_year + '\\n')\n",
        "    data.append (event_description)\n",
        "\n",
        "with open (\"18thMarchfile.txt\", \"w\") as file:\n",
        "  for i in data:\n",
        "    file.write (\"{}\".format(i))\n",
        "\n",
        "file.close ()"
      ],
      "metadata": {
        "id": "TNY8M_1haH3X"
      },
      "execution_count": 3,
      "outputs": []
    }
  ]
}