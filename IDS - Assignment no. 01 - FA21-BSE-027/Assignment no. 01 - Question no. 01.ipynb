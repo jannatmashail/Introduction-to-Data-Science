{
  "nbformat": 4,
  "nbformat_minor": 0,
  "metadata": {
    "colab": {
      "provenance": []
    },
    "kernelspec": {
      "name": "python3",
      "display_name": "Python 3"
    },
    "language_info": {
      "name": "python"
    }
  },
  "cells": [
    {
      "cell_type": "code",
      "source": [
        "# 18th September 2023\n",
        "# CSC461 – Assignment1 – Web Scraping\n",
        "# Mashail Jannat\n",
        "# FA21-BSE-027\n",
        "# This is a webscrapper code that is extracting the titles and ratings of 5 of my favourite anime series from imdb site and exporting it to an excel sheet named \"Anime_Excel_Sheet\"\n",
        "\n",
        "import requests\n",
        "import time\n",
        "import openpyxl\n",
        "from bs4 import BeautifulSoup\n",
        "\n",
        "headers = {'User-Agent': 'Mozilla/5.0 (Windows NT 10.0; Win64; x64) AppleWebKit/537.36 (KHTML, like Gecko) Chrome/58.0.3029.110 Safari/537.36'}\n",
        "response = []\n",
        "response.append (requests.get (\"https://www.imdb.com/title/tt0988824/\", headers=headers))\n",
        "response.append (requests.get (\"https://www.imdb.com/title/tt0877057/\", headers=headers))\n",
        "response.append (requests.get (\"https://www.imdb.com/title/tt2560140/\", headers=headers))\n",
        "response.append (requests.get (\"https://www.imdb.com/title/tt13616990/\", headers=headers))\n",
        "response.append (requests.get (\"https://www.imdb.com/title/tt5679720/\", headers=headers))\n",
        "\n",
        "root = []\n",
        "root.append (BeautifulSoup (response [0].content, 'html5lib'))\n",
        "root.append (BeautifulSoup (response [1].content, 'html5lib'))\n",
        "root.append (BeautifulSoup (response [2].content, 'html5lib'))\n",
        "root.append (BeautifulSoup (response [3].content, 'html5lib'))\n",
        "root.append (BeautifulSoup (response [4].content, 'html5lib'))\n",
        "\n",
        "anime_workbook = openpyxl.Workbook ()\n",
        "anime_worksheet = anime_workbook.active\n",
        "\n",
        "anime_worksheet.cell (row = 1, column = 1, value = \"Series Title\")\n",
        "anime_worksheet.cell (row = 1, column = 2, value = \"Rating\")\n",
        "\n",
        "for cell, site in enumerate (root, start = 2):\n",
        "  div_required_1 = site.find ('div', class_= 'sc-dffc6c81-0 iwmAVw')\n",
        "\n",
        "  title_extracted_list = (div_required_1.find ('span', class_= 'sc-afe43def-1 fDTGTb'))\n",
        "  title = title_extracted_list.text.strip ()\n",
        "\n",
        "  div_required_2 = site.find ('div', class_='sc-bde20123-2 gYgHoj')\n",
        "\n",
        "  rating_extracted_list = (div_required_2.text.strip ())\n",
        "  rating = rating_extracted_list\n",
        "\n",
        "  anime_worksheet.cell (row = cell, column = 1, value = title)\n",
        "  anime_worksheet.cell (row = cell, column = 2, value = rating)\n",
        "\n",
        "  time.sleep(1)\n",
        "\n",
        "anime_workbook.save (\"Anime_Excel_Sheet.xlsx\")\n",
        "anime_workbook.close ()"
      ],
      "metadata": {
        "id": "knYHILMZ9M4o"
      },
      "execution_count": 1,
      "outputs": []
    }
  ]
}