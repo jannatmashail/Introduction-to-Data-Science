{
  "nbformat": 4,
  "nbformat_minor": 0,
  "metadata": {
    "colab": {
      "provenance": []
    },
    "kernelspec": {
      "name": "python3",
      "display_name": "Python 3"
    },
    "language_info": {
      "name": "python"
    }
  },
  "cells": [
    {
      "cell_type": "code",
      "source": [
        "# 29th September 2023\n",
        "# CSC461 – Assignment no. 02 – Regular Expressions\n",
        "# Mashail Jannat\n",
        "# FA21-BSE-027\n",
        "# The task involves reading a file (example-text.txt) and applying various regular expressions to extract specific information and manipulate the text."
      ],
      "metadata": {
        "id": "in8ZtJZ3WPNb"
      },
      "execution_count": null,
      "outputs": []
    },
    {
      "cell_type": "code",
      "execution_count": 36,
      "metadata": {
        "id": "QhUp8Q_-hOjM"
      },
      "outputs": [],
      "source": [
        "import os\n",
        "import re"
      ]
    },
    {
      "cell_type": "code",
      "source": [
        "file_path = os.path.abspath (\"example-text.txt\")"
      ],
      "metadata": {
        "id": "Vn7YswVH1J0U"
      },
      "execution_count": 184,
      "outputs": []
    },
    {
      "cell_type": "code",
      "source": [
        "with open (file_path, \"r\") as file:\n",
        "  data = file.read ()"
      ],
      "metadata": {
        "id": "cgJt41JKhRF9"
      },
      "execution_count": null,
      "outputs": []
    },
    {
      "cell_type": "code",
      "source": [
        "pattern_1 = r'\\b[^0-9\\s]+\\b'\n",
        "all_words = re.findall (pattern_1, data)\n",
        "print (all_words)"
      ],
      "metadata": {
        "colab": {
          "base_uri": "https://localhost:8080/"
        },
        "id": "q6gAURWLh_DD",
        "outputId": "3c28c836-16e7-4db3-e145-c386d615900d"
      },
      "execution_count": 186,
      "outputs": [
        {
          "output_type": "stream",
          "name": "stdout",
          "text": [
            "['The', 'outlook', \"wasn't\", 'brilliant', 'for', 'the', 'Mudville', 'nine', 'that', 'day', 'The', 'score', 'stood', 'four', 'to', 'two', 'with', 'but', 'one', 'inning', 'more', 'to', 'play', 'And', 'then', 'when', 'Cooney', 'died', 'at', 'first', 'and', 'Barrows', 'did', 'the', 'same', 'A', 'pall-like', 'silence', 'fell', 'upon', 'the', 'patrons', 'of', 'the', 'game', 'A', 'straggling', 'few', 'got', 'up', 'to', 'go', 'in', 'deep', 'despair', 'The', 'rest', 'Clung', 'to', 'that', 'hope', 'which', 'springs', 'eternal', 'in', 'the', 'human', 'breast', 'They', 'thought', 'If', 'only', 'Casey', 'could', 'but', 'get', 'a', 'whack', 'at', 'that', \"We'd\", 'put', 'up', 'even', 'money', 'now', 'with', 'Casey', 'at', 'the', 'bat', 'But', 'Flynn', 'preceded', 'Casey', 'as', 'did', 'also', 'Jimmy', 'Blake', 'And', 'the', 'former', 'was', 'a', 'lulu', 'while', 'the', 'latter', 'was', 'a', 'cake', 'So', 'upon', 'that', 'stricken', 'multitude', 'grim', 'melancholy', 'sat', 'For', 'there', 'seemed', 'but', 'little', 'chance', 'of', 'Casey', 'getting', 'to', 'the', 'bat', 'But', 'Flynn', 'let', 'drive', 'a', 'single', 'to', 'the', 'wonderment', 'of', 'all', 'And', 'Blake', 'the', 'much', 'despised', 'tore', 'the', 'cover', 'off', 'the', 'ball', 'And', 'when', 'the', 'dust', 'had', 'lifted', 'and', 'men', 'saw', 'what', 'had', 'occurred', 'There', 'was', 'Jimmy', 'safe', 'at', 'second', 'and', 'Flynn', 'a-hugging', 'third', 'Then', 'from', 'five', 'thousand', 'throats', 'and', 'more', 'there', 'rose', 'a', 'lusty', 'yell', 'It', 'rumbled', 'through', 'the', 'valley', 'it', 'rattled', 'in', 'the', 'dell', 'It', 'pounded', 'on', 'the', 'mountain', 'and', 'recoiled', 'upon', 'the', 'flat', 'For', 'Casey', 'mighty', 'Casey', 'was', 'advancing', 'to', 'the', 'bat', 'There', 'was', 'ease', 'in', \"Casey's\", 'manner', 'as', 'he', 'stepped', 'into', 'his', 'place', 'There', 'was', 'pride', 'in', \"Casey's\", 'bearing', 'and', 'a', 'smile', 'lit', \"Casey's\", 'face', 'And', 'when', 'responding', 'to', 'the', 'cheers', 'he', 'lightly', 'doffed', 'his', 'hat', 'No', 'stranger', 'in', 'the', 'crowd', 'could', 'doubt', 'twas', 'Casey', 'at', 'the', 'bat', 'Ten', 'thousand', 'eyes', 'were', 'on', 'him', 'as', 'he', 'rubbed', 'his', 'hands', 'with', 'dirt', 'Five', 'thousand', 'tongues', 'applauded', 'when', 'he', 'wiped', 'them', 'on', 'his', 'shirt', 'Then', 'while', 'the', 'writhing', 'pitcher', 'ground', 'the', 'ball', 'into', 'his', 'hip', 'Defiance', 'flashed', 'in', \"Casey's\", 'eye', 'a', 'sneer', 'curled', \"Casey's\", 'lip', 'And', 'now', 'the', 'leather-covered', 'sphere', 'came', 'hurtling', 'through', 'the', 'air', 'And', 'Casey', 'stood', 'a-watching', 'it', 'in', 'haughty', 'grandeur', 'there', 'Close', 'by', 'the', 'sturdy', 'batsman', 'the', 'ball', 'unheeded', 'sped', 'That', \"ain't\", 'my', 'style', 'said', 'Casey', 'Strike', 'one', 'the', 'umpire', 'said', 'From', 'the', 'benches', 'black', 'with', 'people', 'there', 'went', 'up', 'a', 'muffled', 'roar', 'Like', 'the', 'beating', 'of', 'the', 'storm-waves', 'on', 'a', 'stern', 'and', 'distant', 'shore', 'Kill', 'him', 'Kill', 'the', 'umpire', 'shouted', 'some', 'one', 'on', 'the', 'stand', 'And', \"it's\", 'likely', \"they'd\", 'have', 'killed', 'him', 'had', 'not', 'Casey', 'raised', 'his', 'hand', 'With', 'a', 'smile', 'of', 'Christian', 'charity', 'great', \"Casey's\", 'visage', 'shone', 'He', 'stilled', 'the', 'rising', 'tumult', 'he', 'bade', 'the', 'game', 'go', 'on', 'He', 'signaled', 'to', 'the', 'pitcher', 'and', 'once', 'more', 'the', 'dun', 'sphere', 'flew', 'But', 'Casey', 'still', 'ignored', 'it', 'and', 'the', 'umpire', 'said', 'Strike', 'two', 'Fraud', 'cried', 'the', 'maddened', 'thousands', 'and', 'echo', 'answered', 'Fraud', 'But', 'one', 'scornful', 'look', 'from', 'Casey', 'and', 'the', 'audience', 'was', 'awed', 'They', 'saw', 'his', 'face', 'grow', 'stern', 'and', 'cold', 'they', 'saw', 'his', 'muscles', 'strain', 'And', 'they', 'knew', 'that', 'Casey', \"wouldn't\", 'let', 'that', 'ball', 'go', 'by', 'again', 'The', 'sneer', 'has', 'fled', 'from', \"Casey's\", 'lip', 'his', 'teeth', 'are', 'clenched', 'in', 'hate', 'He', 'pounds', 'with', 'cruel', 'violence', 'his', 'bat', 'upon', 'the', 'plate', 'And', 'now', 'the', 'pitcher', 'holds', 'the', 'ball', 'and', 'now', 'he', 'lets', 'it', 'go', 'And', 'now', 'the', 'air', 'is', 'shattered', 'by', 'the', 'force', 'of', \"Casey's\", 'blow', 'Oh', 'somewhere', 'in', 'this', 'favored', 'land', 'the', 'sun', 'is', 'shining', 'bright', 'The', 'band', 'is', 'playing', 'somewhere', 'and', 'somewhere', 'hearts', 'are', 'light', 'And', 'somewhere', 'men', 'are', 'laughing', 'and', 'little', 'children', 'shout', 'But', 'there', 'is', 'no', 'joy', 'in', 'Mudville--great', 'Casey', 'has', 'struck', 'out']\n"
          ]
        }
      ]
    },
    {
      "cell_type": "code",
      "source": [
        "pattern_2 = r'\\b[A-Z]\\w[^0-9\\s]+\\b'\n",
        "startwith_Capital = re.findall (pattern_2, data)\n",
        "print (startwith_Capital)"
      ],
      "metadata": {
        "colab": {
          "base_uri": "https://localhost:8080/"
        },
        "id": "hOp0ODFi1dkb",
        "outputId": "2709a22e-46c3-4eec-c2cb-9b973d2bc2a9"
      },
      "execution_count": 187,
      "outputs": [
        {
          "output_type": "stream",
          "name": "stdout",
          "text": [
            "['The', 'Mudville', 'The', 'And', 'Cooney', 'Barrows', 'The', 'Clung', 'They', 'Casey', \"We'd\", 'Casey', 'But', 'Flynn', 'Casey', 'Jimmy', 'Blake', 'And', 'For', 'Casey', 'But', 'Flynn', 'And', 'Blake', 'And', 'There', 'Jimmy', 'Flynn', 'Then', 'For', 'Casey', 'Casey', 'There', \"Casey's\", 'There', \"Casey's\", \"Casey's\", 'And', 'Casey', 'Ten', 'Five', 'Then', 'Defiance', \"Casey's\", \"Casey's\", 'And', 'And', 'Casey', 'Close', 'That', 'Casey', 'Strike', 'From', 'Like', 'Kill', 'Kill', 'And', 'Casey', 'With', 'Christian', \"Casey's\", 'But', 'Casey', 'Strike', 'Fraud', 'Fraud', 'But', 'Casey', 'They', 'And', 'Casey', 'The', \"Casey's\", 'And', 'And', \"Casey's\", 'The', 'And', 'But', 'Mudville--great', 'Casey']\n"
          ]
        }
      ]
    },
    {
      "cell_type": "code",
      "source": [
        "pattern_3 = r'\\b\\w{4}[^0-9\\!\\@\\#\\$\\%\\^\\&\\*\\(\\)\\,\\.\\?\\\"\\:\\{\\}\\|\\<\\>\\[\\\\\\]\\\\\\/\\'\\;\\~\\_\\+\\-\\=\\s]\\b'\n",
        "fiveletter_words = re.findall (pattern_3, data)\n",
        "print (fiveletter_words)"
      ],
      "metadata": {
        "colab": {
          "base_uri": "https://localhost:8080/"
        },
        "id": "WS0tM4752XsW",
        "outputId": "065e5f67-5202-439e-eb6f-b528fba79f13"
      },
      "execution_count": 191,
      "outputs": [
        {
          "output_type": "stream",
          "name": "stdout",
          "text": [
            "['score', 'stood', 'first', 'Clung', 'which', 'human', 'Casey', 'could', 'whack', 'money', 'Casey', 'Flynn', 'Casey', 'Jimmy', 'Blake', 'while', 'there', 'Casey', 'Flynn', 'drive', 'Blake', 'cover', 'There', 'Jimmy', 'Flynn', 'third', 'there', 'lusty', 'Casey', 'Casey', 'There', 'Casey', 'place', 'There', 'pride', 'Casey', 'smile', 'Casey', 'crowd', 'could', 'doubt', 'Casey', 'hands', 'wiped', 'shirt', 'while', 'Casey', 'sneer', 'Casey', 'Casey', 'stood', 'there', 'Close', 'style', 'Casey', 'black', 'there', 'storm', 'waves', 'stern', 'shore', 'stand', 'Casey', 'smile', 'great', 'Casey', 'shone', 'Casey', 'still', 'Fraud', 'cried', 'Fraud', 'Casey', 'stern', 'Casey', 'again', 'sneer', 'Casey', 'teeth', 'cruel', 'plate', 'holds', 'force', 'Casey', 'light', 'shout', 'there', 'great', 'Casey']\n"
          ]
        }
      ]
    },
    {
      "cell_type": "code",
      "source": [
        "subdata = re.sub (r\"\\n\", \" \", data)\n",
        "pattern_4 = r'\\\"(.*?)[^0-9\\s]\\\"'\n",
        "doublequote_words = re.findall (pattern_4, subdata)\n",
        "print (doublequote_words)"
      ],
      "metadata": {
        "colab": {
          "base_uri": "https://localhost:8080/"
        },
        "id": "bYbi9rzH-IYq",
        "outputId": "2a0ee9a5-8c10-4a64-9853-356a67e69e57"
      },
      "execution_count": 195,
      "outputs": [
        {
          "output_type": "stream",
          "name": "stdout",
          "text": [
            "[\"If only Casey could but get a whack at that-- We'd put up even money now, with Casey at the bat\", \"That ain't my style\", 'Strike one', 'Kill him! Kill the umpire', 'Strike two', 'Fraud', 'Fraud']\n"
          ]
        }
      ]
    },
    {
      "cell_type": "code",
      "source": [
        "pattern_5 = r'[aeiou]'\n",
        "vowels = re.findall (pattern_5, data)\n",
        "print (vowels)"
      ],
      "metadata": {
        "colab": {
          "base_uri": "https://localhost:8080/"
        },
        "id": "Q7A91Ie9JJ-m",
        "outputId": "a0c0ab30-9947-41c0-f052-1310944b112b"
      },
      "execution_count": 196,
      "outputs": [
        {
          "output_type": "stream",
          "name": "stdout",
          "text": [
            "['e', 'o', 'u', 'o', 'o', 'a', 'i', 'i', 'a', 'o', 'e', 'u', 'i', 'e', 'i', 'e', 'a', 'a', 'e', 'o', 'e', 'o', 'o', 'o', 'u', 'o', 'o', 'i', 'u', 'o', 'e', 'i', 'i', 'o', 'e', 'o', 'a', 'e', 'e', 'o', 'o', 'e', 'i', 'e', 'a', 'i', 'a', 'a', 'o', 'i', 'e', 'a', 'e', 'a', 'i', 'e', 'i', 'e', 'e', 'e', 'u', 'o', 'e', 'a', 'o', 'o', 'e', 'a', 'e', 'a', 'i', 'e', 'o', 'u', 'o', 'o', 'i', 'e', 'e', 'e', 'a', 'i', 'e', 'e', 'u', 'o', 'a', 'o', 'e', 'i', 'i', 'e', 'e', 'a', 'i', 'e', 'u', 'a', 'e', 'a', 'e', 'o', 'u', 'o', 'a', 'e', 'o', 'u', 'u', 'e', 'a', 'a', 'a', 'a', 'e', 'u', 'u', 'e', 'e', 'o', 'e', 'o', 'i', 'a', 'e', 'a', 'e', 'a', 'u', 'e', 'e', 'e', 'a', 'e', 'a', 'i', 'a', 'o', 'i', 'a', 'e', 'e', 'o', 'e', 'a', 'a', 'u', 'u', 'i', 'e', 'e', 'a', 'e', 'a', 'a', 'a', 'e', 'o', 'u', 'o', 'a', 'i', 'e', 'u', 'i', 'u', 'e', 'i', 'e', 'a', 'o', 'a', 'o', 'e', 'e', 'e', 'e', 'e', 'u', 'i', 'e', 'a', 'e', 'o', 'a', 'e', 'e', 'i', 'o', 'e', 'a', 'u', 'e', 'i', 'e', 'a', 'i', 'e', 'o', 'e', 'o', 'e', 'e', 'o', 'a', 'a', 'e', 'e', 'u', 'e', 'i', 'e', 'o', 'e', 'e', 'o', 'e', 'o', 'e', 'a', 'e', 'e', 'u', 'a', 'i', 'e', 'a', 'e', 'a', 'a', 'a', 'o', 'u', 'e', 'e', 'e', 'a', 'i', 'a', 'e', 'a', 'e', 'o', 'a', 'a', 'u', 'i', 'i', 'e', 'o', 'i', 'e', 'o', 'u', 'a', 'o', 'a', 'a', 'o', 'e', 'e', 'e', 'o', 'e', 'a', 'u', 'e', 'u', 'e', 'o', 'u', 'e', 'a', 'e', 'i', 'a', 'e', 'i', 'e', 'e', 'o', 'u', 'e', 'o', 'e', 'o', 'u', 'a', 'i', 'a', 'e', 'o', 'i', 'e', 'u', 'o', 'e', 'a', 'o', 'a', 'e', 'i', 'a', 'e', 'a', 'a', 'a', 'i', 'o', 'e', 'a', 'e', 'e', 'a', 'e', 'a', 'e', 'i', 'a', 'e', 'a', 'e', 'a', 'e', 'e', 'e', 'i', 'o', 'i', 'a', 'e', 'e', 'e', 'a', 'i', 'e', 'i', 'a', 'e', 'e', 'a', 'i', 'a', 'a', 'i', 'e', 'i', 'a', 'e', 'a', 'e', 'e', 'e', 'o', 'i', 'o', 'e', 'e', 'e', 'e', 'i', 'o', 'e', 'i', 'a', 'o', 'a', 'e', 'i', 'e', 'o', 'o', 'u', 'o', 'u', 'a', 'a', 'e', 'a', 'e', 'a', 'e', 'o', 'u', 'a', 'e', 'e', 'e', 'e', 'o', 'i', 'a', 'e', 'u', 'e', 'i', 'a', 'i', 'i', 'i', 'e', 'o', 'u', 'a', 'o', 'u', 'e', 'a', 'a', 'u', 'e', 'e', 'e', 'i', 'e', 'e', 'o', 'i', 'i', 'e', 'i', 'e', 'e', 'i', 'i', 'i', 'e', 'o', 'u', 'e', 'a', 'i', 'o', 'i', 'i', 'e', 'i', 'a', 'e', 'a', 'e', 'i', 'a', 'e', 'e', 'e', 'a', 'e', 'e', 'u', 'e', 'a', 'e', 'i', 'o', 'e', 'e', 'a', 'e', 'o', 'e', 'e', 'e', 'e', 'a', 'e', 'u', 'i', 'o', 'u', 'e', 'a', 'i', 'a', 'e', 'o', 'o', 'a', 'a', 'i', 'i', 'i', 'a', 'u', 'a', 'e', 'u', 'e', 'e', 'o', 'e', 'e', 'u', 'a', 'a', 'e', 'a', 'u', 'e', 'e', 'e', 'e', 'a', 'a', 'i', 'e', 'a', 'i', 'a', 'e', 'i', 'e', 'o', 'e', 'e', 'u', 'i', 'e', 'a', 'i', 'o', 'e', 'e', 'e', 'a', 'i', 'e', 'o', 'e', 'e', 'e', 'e', 'u', 'a', 'u', 'e', 'o', 'a', 'i', 'e', 'e', 'e', 'a', 'i', 'o', 'e', 'o', 'a', 'e', 'o', 'a', 'e', 'a', 'i', 'a', 'o', 'e', 'i', 'i', 'i', 'e', 'u', 'i', 'e', 'o', 'u', 'e', 'o', 'e', 'o', 'e', 'o', 'e', 'a', 'i', 'i', 'e', 'e', 'a', 'e', 'i', 'e', 'i', 'a', 'o', 'a', 'e', 'a', 'i', 'e', 'i', 'a', 'i', 'a', 'i', 'e', 'o', 'i', 'i', 'a', 'a', 'i', 'e', 'a', 'a', 'e', 'i', 'a', 'e', 'o', 'e', 'e', 'i', 'e', 'e', 'i', 'i', 'u', 'u', 'e', 'a', 'e', 'e', 'a', 'e', 'o', 'o', 'e', 'i', 'a', 'e', 'o', 'e', 'i', 'e', 'a', 'o', 'e', 'o', 'e', 'e', 'u', 'e', 'e', 'e', 'u', 'a', 'e', 'i', 'i', 'o', 'e', 'i', 'a', 'e', 'u', 'i', 'e', 'a', 'i', 'i', 'e', 'o', 'a', 'u', 'i', 'e', 'e', 'a', 'e', 'e', 'o', 'u', 'a', 'a', 'e', 'o', 'a', 'e', 'e', 'a', 'u', 'u', 'o', 'e', 'o', 'u', 'o', 'o', 'o', 'a', 'e', 'a', 'e', 'a', 'u', 'i', 'e', 'e', 'a', 'a', 'e', 'e', 'a', 'i', 'a', 'e', 'o', 'e', 'a', 'o', 'e', 'a', 'i', 'u', 'e', 'a', 'i', 'e', 'e', 'a', 'a', 'e', 'o', 'u', 'e', 'a', 'a', 'o', 'a', 'a', 'i', 'e', 'e', 'e', 'a', 'e', 'o', 'a', 'e', 'i', 'i', 'e', 'e', 'a', 'e', 'e', 'e', 'i', 'a', 'e', 'e', 'o', 'u', 'i', 'u', 'e', 'i', 'o', 'e', 'e', 'i', 'a', 'u', 'o', 'e', 'a', 'e', 'o', 'e', 'i', 'e', 'o', 'e', 'a', 'a', 'o', 'e', 'e', 'i', 'o', 'o', 'e', 'a', 'i', 'i', 'a', 'e', 'e', 'e', 'o', 'e', 'o', 'a', 'e', 'o', 'o', 'e', 'e', 'e', 'i', 'i', 'a', 'o', 'e', 'a', 'e', 'u', 'i', 'i', 'i', 'i', 'e', 'a', 'i', 'a', 'i', 'o', 'e', 'e', 'e', 'a', 'o', 'e', 'e', 'e', 'e', 'a', 'a', 'e', 'i', 'o', 'e', 'e', 'e', 'e', 'a', 'e', 'a', 'u', 'i', 'a', 'i', 'e', 'i', 'e', 'o', 'u', 'u', 'e', 'e', 'i', 'o', 'o', 'i', 'u', 'i', 'e', 'e', 'a', 'a', 'e', 'a', 'u', 'o', 'u']\n"
          ]
        }
      ]
    },
    {
      "cell_type": "code",
      "source": [
        "pattern_6 = r'\\b\\w{1}[^0-9\\!\\@\\#\\$\\%\\^\\&\\*\\(\\)\\,\\.\\?\\\"\\:\\{\\}\\|\\<\\>\\[\\\\\\]\\\\\\/\\'\\;\\~\\_\\+\\-\\=\\s]e\\b'\n",
        "threeletter_wordswithE = re.findall (pattern_6, data)\n",
        "print (threeletter_wordswithE)"
      ],
      "metadata": {
        "colab": {
          "base_uri": "https://localhost:8080/"
        },
        "id": "T4Yao43FKAqx",
        "outputId": "77be9e41-6aaa-42ba-e905-58fd353ef5ec"
      },
      "execution_count": 198,
      "outputs": [
        {
          "output_type": "stream",
          "name": "stdout",
          "text": [
            "['The', 'the', 'The', 'one', 'the', 'the', 'the', 'The', 'the', 'the', 'the', 'the', 'the', 'the', 'the', 'the', 'the', 'the', 'the', 'the', 'the', 'the', 'the', 'the', 'the', 'the', 'the', 'the', 'eye', 'the', 'the', 'the', 'the', 'one', 'the', 'the', 'the', 'the', 'the', 'one', 'the', 'the', 'the', 'the', 'the', 'the', 'the', 'one', 'the', 'The', 'are', 'the', 'the', 'the', 'the', 'the', 'the', 'The', 'are', 'are']\n"
          ]
        }
      ]
    },
    {
      "cell_type": "code",
      "source": [
        "pattern_7 = r'\\b[bB]\\w*\\b|\\b\\w*[bB]\\b'\n",
        "wordswith_B = re.findall (pattern_7, data)\n",
        "print (wordswith_B)"
      ],
      "metadata": {
        "colab": {
          "base_uri": "https://localhost:8080/"
        },
        "id": "MCvnhWXcMLHb",
        "outputId": "ef0c018b-a4e7-4d53-8f52-46bc107ecad5"
      },
      "execution_count": 199,
      "outputs": [
        {
          "output_type": "stream",
          "name": "stdout",
          "text": [
            "['brilliant', 'but', 'Barrows', 'breast', 'but', 'bat', 'But', 'Blake', 'but', 'bat', 'But', 'Blake', 'ball', 'bat', 'bearing', 'bat', 'ball', 'by', 'batsman', 'ball', 'benches', 'black', 'beating', 'bade', 'But', 'But', 'ball', 'by', 'bat', 'ball', 'by', 'blow', 'bright', 'band', 'But']\n"
          ]
        }
      ]
    },
    {
      "cell_type": "code",
      "source": [
        "pattern_8 = r'[^\\w\\s]'\n",
        "datawithout_punctuation = re.sub (pattern_8, '', data)\n",
        "print (datawithout_punctuation)"
      ],
      "metadata": {
        "colab": {
          "base_uri": "https://localhost:8080/"
        },
        "id": "FIExtGiKShW-",
        "outputId": "079c902a-f88f-4baf-deeb-efbde65b8ec3"
      },
      "execution_count": 200,
      "outputs": [
        {
          "output_type": "stream",
          "name": "stdout",
          "text": [
            "The outlook wasnt brilliant for the Mudville nine that day \n",
            "The score stood four to two with but one inning more to play\n",
            "And then when Cooney died at first and Barrows did the same\n",
            "A palllike silence fell upon the patrons of the game \n",
            "\n",
            "A straggling few got up to go in deep despair The rest\n",
            "Clung to that hope which springs eternal in the human breast\n",
            "They thought If only Casey could but get a whack at that\n",
            "Wed put up even money now with Casey at the bat \n",
            "\n",
            "But Flynn preceded Casey as did also Jimmy Blake\n",
            "And the former was a lulu while the latter was a cake\n",
            "So upon that stricken multitude grim melancholy sat\n",
            "For there seemed but little chance of Casey getting to the bat\n",
            "\n",
            "But Flynn let drive a single to the wonderment of all\n",
            "And Blake the much despised tore the cover off the ball\n",
            "And when the dust had lifted and men saw what had occurred\n",
            "There was Jimmy safe at second and Flynn ahugging third \n",
            "\n",
            "Then from five thousand throats and more there rose a lusty yell\n",
            "It rumbled through the valley it rattled in the dell\n",
            "It pounded on the mountain and recoiled upon the flat\n",
            "For Casey mighty Casey was advancing to the bat \n",
            "\n",
            "There was ease in Caseys manner as he stepped into his place\n",
            "There was pride in Caseys bearing and a smile lit Caseys face\n",
            "And when responding to the cheers he lightly doffed his hat\n",
            "No stranger in the crowd could doubt twas Casey at the bat \n",
            "\n",
            "Ten thousand eyes were on him as he rubbed his hands with dirt\n",
            "Five thousand tongues applauded when he wiped them on his shirt\n",
            "Then while the writhing pitcher ground the ball into his hip\n",
            "Defiance flashed in Caseys eye a sneer curled Caseys lip \n",
            "\n",
            "And now the leathercovered sphere came hurtling through the air\n",
            "And Casey stood awatching it in haughty grandeur there\n",
            "Close by the sturdy batsman the ball unheeded sped\n",
            "That aint my style said Casey Strike one the umpire said \n",
            "\n",
            "From the benches black with people there went up a muffled roar\n",
            "Like the beating of the stormwaves on a stern and distant shore\n",
            "Kill him Kill the umpire shouted some one on the stand\n",
            "And its likely theyd have killed him had not Casey raised his hand \n",
            "\n",
            "With a smile of Christian charity great Caseys visage shone\n",
            "He stilled the rising tumult he bade the game go on\n",
            "He signaled to the pitcher and once more the dun sphere flew\n",
            "But Casey still ignored it and the umpire said Strike two \n",
            "\n",
            "Fraud cried the maddened thousands and echo answered Fraud\n",
            "But one scornful look from Casey and the audience was awed\n",
            "They saw his face grow stern and cold they saw his muscles strain\n",
            "And they knew that Casey wouldnt let that ball go by again \n",
            "\n",
            "The sneer has fled from Caseys lip his teeth are clenched in hate\n",
            "He pounds with cruel violence his bat upon the plate\n",
            "And now the pitcher holds the ball and now he lets it go\n",
            "And now the air is shattered by the force of Caseys blow \n",
            "\n",
            "Oh somewhere in this favored land the sun is shining bright\n",
            "The band is playing somewhere and somewhere hearts are light\n",
            "And somewhere men are laughing and little children shout\n",
            "But there is no joy in Mudvillegreat Casey has struck out\n",
            "\n"
          ]
        }
      ]
    },
    {
      "cell_type": "code",
      "source": [
        "pattern_9 = r'n\\'t'\n",
        "datatith_notreplacedwords = re.sub (pattern_9, ' not', data)\n",
        "print (datatith_notreplacedwords)"
      ],
      "metadata": {
        "colab": {
          "base_uri": "https://localhost:8080/"
        },
        "id": "1B2OLLlWUTTo",
        "outputId": "187d9802-97fd-4790-dfd7-cd8802dd5672"
      },
      "execution_count": 201,
      "outputs": [
        {
          "output_type": "stream",
          "name": "stdout",
          "text": [
            "The outlook was not brilliant for the Mudville nine that day; \n",
            "The score stood four to two, with but one inning more to play,\n",
            "And then when Cooney died at first, and Barrows did the same,\n",
            "A pall-like silence fell upon the patrons of the game. \n",
            "\n",
            "A straggling few got up to go in deep despair. The rest\n",
            "Clung to that hope which springs eternal in the human breast;\n",
            "They thought, \"If only Casey could but get a whack at that--\n",
            "We'd put up even money now, with Casey at the bat.\" \n",
            "\n",
            "But Flynn preceded Casey, as did also Jimmy Blake,\n",
            "And the former was a lulu, while the latter was a cake;\n",
            "So upon that stricken multitude grim melancholy sat,\n",
            "For there seemed but little chance of Casey getting to the bat.\n",
            "\n",
            "But Flynn let drive a single, to the wonderment of all,\n",
            "And Blake, the much despised, tore the cover off the ball;\n",
            "And when the dust had lifted, and men saw what had occurred,\n",
            "There was Jimmy safe at second and Flynn a-hugging third. \n",
            "\n",
            "Then from five thousand throats and more there rose a lusty yell;\n",
            "It rumbled through the valley, it rattled in the dell;\n",
            "It pounded on the mountain and recoiled upon the flat,\n",
            "For Casey, mighty Casey, was advancing to the bat. \n",
            "\n",
            "There was ease in Casey's manner as he stepped into his place;\n",
            "There was pride in Casey's bearing and a smile lit Casey's face.\n",
            "And when, responding to the cheers, he lightly doffed his hat,\n",
            "No stranger in the crowd could doubt 'twas Casey at the bat. \n",
            "\n",
            "Ten thousand eyes were on him as he rubbed his hands with dirt;\n",
            "Five thousand tongues applauded when he wiped them on his shirt;\n",
            "Then while the writhing pitcher ground the ball into his hip,\n",
            "Defiance flashed in Casey's eye, a sneer curled Casey's lip. \n",
            "\n",
            "And now the leather-covered sphere came hurtling through the air,\n",
            "And Casey stood a-watching it in haughty grandeur there.\n",
            "Close by the sturdy batsman the ball unheeded sped--\n",
            "\"That ai not my style,\" said Casey. \"Strike one!\" the umpire said. \n",
            "\n",
            "From the benches, black with people, there went up a muffled roar,\n",
            "Like the beating of the storm-waves on a stern and distant shore;\n",
            "\"Kill him! Kill the umpire!\" shouted some one on the stand;\n",
            "And it's likely they'd have killed him had not Casey raised his hand. \n",
            "\n",
            "With a smile of Christian charity great Casey's visage shone;\n",
            "He stilled the rising tumult; he bade the game go on;\n",
            "He signaled to the pitcher, and once more the dun sphere flew;\n",
            "But Casey still ignored it, and the umpire said, \"Strike two!\" \n",
            "\n",
            "\"Fraud!\" cried the maddened thousands, and echo answered \"Fraud!\"\n",
            "But one scornful look from Casey and the audience was awed.\n",
            "They saw his face grow stern and cold, they saw his muscles strain,\n",
            "And they knew that Casey would not let that ball go by again. \n",
            "\n",
            "The sneer has fled from Casey's lip, his teeth are clenched in hate;\n",
            "He pounds with cruel violence his bat upon the plate.\n",
            "And now the pitcher holds the ball, and now he lets it go.\n",
            "And now the air is shattered by the force of Casey's blow. \n",
            "\n",
            "Oh, somewhere in this favored land the sun is shining bright;\n",
            "The band is playing somewhere, and somewhere hearts are light,\n",
            "And somewhere men are laughing, and little children shout;\n",
            "But there is no joy in Mudville--great Casey has struck out\n",
            "\n"
          ]
        }
      ]
    },
    {
      "cell_type": "code",
      "source": [
        "pattern_10 = r'\\n'\n",
        "datawith_newlinesreplaced = re.sub (pattern_10, ' ', data)\n",
        "print (datawith_newlinesreplaced)"
      ],
      "metadata": {
        "colab": {
          "base_uri": "https://localhost:8080/"
        },
        "id": "Pdfg9tIUU6qy",
        "outputId": "7f6dc77a-413c-4ef6-c7fd-ff6207d5ebff"
      },
      "execution_count": 203,
      "outputs": [
        {
          "output_type": "stream",
          "name": "stdout",
          "text": [
            "The outlook wasn't brilliant for the Mudville nine that day;  The score stood four to two, with but one inning more to play, And then when Cooney died at first, and Barrows did the same, A pall-like silence fell upon the patrons of the game.   A straggling few got up to go in deep despair. The rest Clung to that hope which springs eternal in the human breast; They thought, \"If only Casey could but get a whack at that-- We'd put up even money now, with Casey at the bat.\"   But Flynn preceded Casey, as did also Jimmy Blake, And the former was a lulu, while the latter was a cake; So upon that stricken multitude grim melancholy sat, For there seemed but little chance of Casey getting to the bat.  But Flynn let drive a single, to the wonderment of all, And Blake, the much despised, tore the cover off the ball; And when the dust had lifted, and men saw what had occurred, There was Jimmy safe at second and Flynn a-hugging third.   Then from five thousand throats and more there rose a lusty yell; It rumbled through the valley, it rattled in the dell; It pounded on the mountain and recoiled upon the flat, For Casey, mighty Casey, was advancing to the bat.   There was ease in Casey's manner as he stepped into his place; There was pride in Casey's bearing and a smile lit Casey's face. And when, responding to the cheers, he lightly doffed his hat, No stranger in the crowd could doubt 'twas Casey at the bat.   Ten thousand eyes were on him as he rubbed his hands with dirt; Five thousand tongues applauded when he wiped them on his shirt; Then while the writhing pitcher ground the ball into his hip, Defiance flashed in Casey's eye, a sneer curled Casey's lip.   And now the leather-covered sphere came hurtling through the air, And Casey stood a-watching it in haughty grandeur there. Close by the sturdy batsman the ball unheeded sped-- \"That ain't my style,\" said Casey. \"Strike one!\" the umpire said.   From the benches, black with people, there went up a muffled roar, Like the beating of the storm-waves on a stern and distant shore; \"Kill him! Kill the umpire!\" shouted some one on the stand; And it's likely they'd have killed him had not Casey raised his hand.   With a smile of Christian charity great Casey's visage shone; He stilled the rising tumult; he bade the game go on; He signaled to the pitcher, and once more the dun sphere flew; But Casey still ignored it, and the umpire said, \"Strike two!\"   \"Fraud!\" cried the maddened thousands, and echo answered \"Fraud!\" But one scornful look from Casey and the audience was awed. They saw his face grow stern and cold, they saw his muscles strain, And they knew that Casey wouldn't let that ball go by again.   The sneer has fled from Casey's lip, his teeth are clenched in hate; He pounds with cruel violence his bat upon the plate. And now the pitcher holds the ball, and now he lets it go. And now the air is shattered by the force of Casey's blow.   Oh, somewhere in this favored land the sun is shining bright; The band is playing somewhere, and somewhere hearts are light, And somewhere men are laughing, and little children shout; But there is no joy in Mudville--great Casey has struck out \n"
          ]
        }
      ]
    }
  ]
}