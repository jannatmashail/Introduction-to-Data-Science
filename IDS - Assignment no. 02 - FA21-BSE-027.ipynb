{
  "nbformat": 4,
  "nbformat_minor": 0,
  "metadata": {
    "colab": {
      "provenance": []
    },
    "kernelspec": {
      "name": "python3",
      "display_name": "Python 3"
    },
    "language_info": {
      "name": "python"
    }
  },
  "cells": [
    {
      "cell_type": "code",
      "execution_count": 1,
      "metadata": {
        "id": "D8z35fxgdwD4"
      },
      "outputs": [],
      "source": [
        "# 29th September 2023\n",
        "# CSC461 – Assignment no. 02 – Regular Expressions\n",
        "# Mashail Jannat\n",
        "# FA21-BSE-027\n",
        "# The task involves reading a file (example-text.txt) and applying various regular expressions to extract specific information and manipulate the text."
      ]
    },
    {
      "cell_type": "code",
      "source": [
        "import os\n",
        "import re"
      ],
      "metadata": {
        "id": "_YW5d7tfeJdY"
      },
      "execution_count": 2,
      "outputs": []
    },
    {
      "cell_type": "code",
      "source": [
        "file_path = os.path.abspath (\"example-text.txt\")"
      ],
      "metadata": {
        "id": "Ih5FqI4EeLdA"
      },
      "execution_count": 3,
      "outputs": []
    },
    {
      "cell_type": "code",
      "source": [
        "with open (file_path, \"r\") as file:\n",
        "  data = file.read ()"
      ],
      "metadata": {
        "id": "zWcvr0IheNUU"
      },
      "execution_count": 4,
      "outputs": []
    },
    {
      "cell_type": "code",
      "source": [
        "pattern_1 = r'\\b[^0-9\\s]+\\b'\n",
        "all_words = re.findall (pattern_1, data)\n",
        "print (all_words)"
      ],
      "metadata": {
        "id": "2GyzTRAjePGj"
      },
      "execution_count": null,
      "outputs": []
    },
    {
      "cell_type": "code",
      "source": [
        "pattern_2 = r'\\b[A-Z]\\w[^0-9\\s]+\\b'\n",
        "startwith_Capital = re.findall (pattern_2, data)\n",
        "print (startwith_Capital)"
      ],
      "metadata": {
        "id": "bTOq_Mf9eRrw"
      },
      "execution_count": null,
      "outputs": []
    },
    {
      "cell_type": "code",
      "source": [
        "pattern_3 = r'\\b\\w{4}[^0-9\\!\\@\\#\\$\\%\\^\\&\\*\\(\\)\\,\\.\\?\\\"\\:\\{\\}\\|\\<\\>\\[\\\\\\]\\\\\\/\\'\\;\\~\\_\\+\\-\\=\\s]\\b'\n",
        "fiveletter_words = re.findall (pattern_3, data)\n",
        "print (fiveletter_words)"
      ],
      "metadata": {
        "id": "z97MBXlbeVIM"
      },
      "execution_count": null,
      "outputs": []
    },
    {
      "cell_type": "code",
      "source": [
        "data_without_newlines = re.sub (r\"\\n\", \" \", data)\n",
        "pattern_4 = r'\\\"(.*?)[^0-9\\s]\\\"'\n",
        "doublequote_words = re.findall (pattern_4, data_without_newlines)\n",
        "print (doublequote_words)"
      ],
      "metadata": {
        "id": "euP8CNAZeYDA"
      },
      "execution_count": null,
      "outputs": []
    },
    {
      "cell_type": "code",
      "source": [
        "pattern_5 = r'[aeiou]'\n",
        "vowels = re.findall (pattern_5, data)\n",
        "print (vowels)"
      ],
      "metadata": {
        "id": "UKiv2sG0ecX-"
      },
      "execution_count": null,
      "outputs": []
    },
    {
      "cell_type": "code",
      "source": [
        "pattern_6 = r'\\b\\w{1}[^0-9\\!\\@\\#\\$\\%\\^\\&\\*\\(\\)\\,\\.\\?\\\"\\:\\{\\}\\|\\<\\>\\[\\\\\\]\\\\\\/\\'\\;\\~\\_\\+\\-\\=\\s]e\\b'\n",
        "threeletter_wordswithE = re.findall (pattern_6, data)\n",
        "print (threeletter_wordswithE)"
      ],
      "metadata": {
        "id": "pzVT2iaDeeNL"
      },
      "execution_count": null,
      "outputs": []
    },
    {
      "cell_type": "code",
      "source": [
        "pattern_7 = r'\\b[bB]\\w*\\b|\\b\\w*[bB]\\b'\n",
        "wordswith_B = re.findall (pattern_7, data)\n",
        "print (wordswith_B)"
      ],
      "metadata": {
        "id": "Zpy7zTeIeglG"
      },
      "execution_count": null,
      "outputs": []
    },
    {
      "cell_type": "code",
      "source": [
        "pattern_8 = r'[^\\w\\s]'\n",
        "datawithout_punctuation = re.sub (pattern_8, '', data)\n",
        "print (datawithout_punctuation)"
      ],
      "metadata": {
        "id": "mbPhTE-sekn-"
      },
      "execution_count": null,
      "outputs": []
    },
    {
      "cell_type": "code",
      "source": [
        "pattern_9 = r'n\\'t'\n",
        "datatith_notreplacedwords = re.sub (pattern_9, ' not', data)\n",
        "print (datatith_notreplacedwords)"
      ],
      "metadata": {
        "id": "RriY8KDjenuS"
      },
      "execution_count": null,
      "outputs": []
    },
    {
      "cell_type": "code",
      "source": [
        "pattern_10 = r'\\n'\n",
        "datawith_newlinesreplaced = re.sub (pattern_10, ' ', data)\n",
        "print (datawith_newlinesreplaced)"
      ],
      "metadata": {
        "id": "esl1YnRCeqTB"
      },
      "execution_count": null,
      "outputs": []
    }
  ]
}