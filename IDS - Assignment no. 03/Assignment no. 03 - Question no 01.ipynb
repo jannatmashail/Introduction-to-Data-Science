{
  "nbformat": 4,
  "nbformat_minor": 0,
  "metadata": {
    "colab": {
      "provenance": []
    },
    "kernelspec": {
      "name": "python3",
      "display_name": "Python 3"
    },
    "language_info": {
      "name": "python"
    }
  },
  "cells": [
    {
      "cell_type": "code",
      "source": [
        "# 26th November 2023\n",
        "# CSC461 – Assignment no. 03 – Introduction to Machine Learning\n",
        "# Mashail Jannat\n",
        "# FA21-BSE-027\n",
        "# \"gender-prediction.csv\" dataset analysis"
      ],
      "metadata": {
        "id": "K8kapVdsogRp"
      },
      "execution_count": 2,
      "outputs": []
    },
    {
      "cell_type": "code",
      "execution_count": 3,
      "metadata": {
        "colab": {
          "base_uri": "https://localhost:8080/"
        },
        "id": "Qn8JqeRIH3Pt",
        "outputId": "4f598875-a5b1-4cd6-ee6a-84b0e9947324"
      },
      "outputs": [
        {
          "output_type": "stream",
          "name": "stdout",
          "text": [
            "     height  weight beard hair_length  shoe_size scarf eye_color  gender\n",
            "0        71     176   yes       short         44    no     black    male\n",
            "1        68     165    no        bald         41    no     black    male\n",
            "2        62     132    no      medium         37   yes      blue  female\n",
            "3        65     138    no        long         38    no      gray  female\n",
            "4        70     197   yes      medium         43    no      gray    male\n",
            "..      ...     ...   ...         ...        ...   ...       ...     ...\n",
            "105      61     103    no        long         38    no     green  female\n",
            "106      68     135    no        long         37   yes     green  female\n",
            "107      66     140    no        long         36   yes      gray  female\n",
            "108      66     132    no      medium         37    no     black  female\n",
            "109      70     160    no        long         42    no     black    male\n",
            "\n",
            "[110 rows x 8 columns]\n",
            "Number of instances in the dataset: 110\n"
          ]
        }
      ],
      "source": [
        "import pandas as pd\n",
        "\n",
        "file_path = 'gender-prediction.csv'\n",
        "file_content = pd.read_csv (file_path)\n",
        "print (file_content)\n",
        "\n",
        "instances = file_content.shape [0]\n",
        "\n",
        "print (\"Number of instances in the dataset:\", instances)"
      ]
    },
    {
      "cell_type": "code",
      "source": [
        "input_attributes = file_content.columns[:-1].tolist ()\n",
        "print (\"Number of input attributes in the dataset:\", len (input_attributes))"
      ],
      "metadata": {
        "colab": {
          "base_uri": "https://localhost:8080/"
        },
        "id": "Lc8L_RirJMTy",
        "outputId": "bfd77c16-1eb9-4be1-c5a5-9cb7fae51746"
      },
      "execution_count": 5,
      "outputs": [
        {
          "output_type": "stream",
          "name": "stdout",
          "text": [
            "Number of input attributes in the dataset: 7\n",
            "['height', 'weight', 'beard', 'hair_length', 'shoe_size', 'scarf', 'eye_color']\n"
          ]
        }
      ]
    },
    {
      "cell_type": "code",
      "source": [
        "output_attributes = file_content [file_content.columns [-1]].unique ()\n",
        "print (\"Number of output attributes in the dataset:\", len (output_attributes))"
      ],
      "metadata": {
        "colab": {
          "base_uri": "https://localhost:8080/"
        },
        "id": "7KPt89RGPePt",
        "outputId": "c76b6c95-23fb-48f0-a08d-0fad13765dc6"
      },
      "execution_count": null,
      "outputs": [
        {
          "output_type": "stream",
          "name": "stdout",
          "text": [
            "3. Number of possible values for the output attribute: 2\n"
          ]
        }
      ]
    },
    {
      "cell_type": "code",
      "source": [
        "categorical_attributes = file_content.select_dtypes (include = ['object']).columns.tolist ()\n",
        "print (\"Number of output attributes in the dataset:\", len (categorical_attributes))"
      ],
      "metadata": {
        "colab": {
          "base_uri": "https://localhost:8080/"
        },
        "id": "vJZ9DTHcQsDi",
        "outputId": "40f6fa95-88d1-4e31-f700-a5f2567218e4"
      },
      "execution_count": null,
      "outputs": [
        {
          "output_type": "stream",
          "name": "stdout",
          "text": [
            "Number of output attributes in the dataset: 5\n"
          ]
        }
      ]
    },
    {
      "cell_type": "code",
      "source": [
        "outputAttribute_name = 'gender'\n",
        "class_ratio = file_content [outputAttribute_name].value_counts (normalize = True)\n",
        "print (\"Class Ratio (Male vs Female):\")\n",
        "print(class_ratio)"
      ],
      "metadata": {
        "colab": {
          "base_uri": "https://localhost:8080/"
        },
        "id": "0qqhg0mTU5fc",
        "outputId": "1a49b742-b329-4a61-aec1-6ee6d7b133f3"
      },
      "execution_count": null,
      "outputs": [
        {
          "output_type": "stream",
          "name": "stdout",
          "text": [
            "Class Ratio (Male vs Female):\n",
            "male      0.563636\n",
            "female    0.436364\n",
            "Name: gender, dtype: float64\n"
          ]
        }
      ]
    }
  ]
}